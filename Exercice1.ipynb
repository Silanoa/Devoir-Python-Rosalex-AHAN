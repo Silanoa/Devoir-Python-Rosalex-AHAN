{
 "cells": [
  {
   "cell_type": "markdown",
   "metadata": {},
   "source": [
    "Proposition 1"
   ]
  },
  {
   "cell_type": "code",
   "execution_count": 1,
   "metadata": {},
   "outputs": [
    {
     "name": "stdout",
     "output_type": "stream",
     "text": [
      "1,13,4:ahan_rosalex_master1\n",
      "None\n",
      "ERREUR: Element non-entier trouvé: a\n",
      "ERREUR: La liste doit contenir au moins 2 chaines de caractères\n"
     ]
    }
   ],
   "source": [
    "def transform(chaine):\n",
    "  # Vérification de la taille de la liste\n",
    "  if len(chaine) < 2:\n",
    "    return \"ERREUR: La liste doit contenir au moins 2 chaines de caractères\"\n",
    "\n",
    "  # Vérification si chaque élément est un entier\n",
    "  for chaine_caracteres in chaine:\n",
    "    for element in chaine_caracteres.split(\", \"):\n",
    "      try:\n",
    "        int(element)\n",
    "      except ValueError:\n",
    "        return \"ERREUR: Element non-entier trouvé: {}\".format(element)\n",
    "  # Conversion des chaines en ensembles pour supprimer les doublons\n",
    "  ensemble1 = set(chaine[0].split(\", \"))\n",
    "  ensemble2 = set(chaine[1].split(\", \"))\n",
    "\n",
    "  # Intersection des deux ensembles pour obtenir les entiers uniques\n",
    "  entiers_communs = ensemble1 & ensemble2\n",
    "\n",
    "  # Si l'intersection est vide, on retourne None\n",
    "  if not entiers_communs:\n",
    "    return None\n",
    "\n",
    "  # Tri des entiers et conversion en chaine de caractères\n",
    "  chaine_entiers = \",\".join(sorted(list(entiers_communs)))\n",
    "\n",
    "  # Concaténation avec votre nom, prénom et classe\n",
    "  return chaine_entiers + \":ahan_rosalex_master1\"\n",
    "\n",
    "# Test de la fonction\n",
    "if __name__ == \"__main__\":\n",
    "  arr1 = [\"1, 3, 4, 7, 13\", \"1, 2, 4, 13, 15\"]\n",
    "  out = transform(arr1)\n",
    "  print(out)\n",
    "\n",
    "  arr3 = [\"9, 3, 5, 7, 14\", \"10, 2, 6, 16, 15\"]\n",
    "  out = transform(arr3)\n",
    "  print(out)\n",
    "  \n",
    "  arr4 = [\"a, 3, 5, u, 14\", \"10, a, 6, u, 15\"]\n",
    "  out = transform(arr4)\n",
    "  print(out)\n",
    "  \n",
    "  arr5 = [\"15\"]\n",
    "  out = transform(arr5)\n",
    "  print(out)"
   ]
  },
  {
   "cell_type": "markdown",
   "metadata": {},
   "source": [
    "Proposition 2"
   ]
  },
  {
   "cell_type": "code",
   "execution_count": 2,
   "metadata": {},
   "outputs": [
    {
     "name": "stdout",
     "output_type": "stream",
     "text": [
      "1,13,4:ahan_rosalex_master1\n",
      "None\n",
      "ERREUR: Element non-entier trouvé: a\n",
      "ERREUR: La liste doit contenir au moins 2 chaines de caractères\n"
     ]
    }
   ],
   "source": [
    "def transform(chaine):\n",
    "    if len(chaine) < 2:\n",
    "        return \"ERREUR: La liste doit contenir au moins 2 chaines de caractères\"\n",
    "    for chaine_caracteres in chaine:\n",
    "        for element in chaine_caracteres.split(\", \"):\n",
    "            try:\n",
    "                int(element)\n",
    "            except ValueError:\n",
    "                return \"ERREUR: Element non-entier trouvé: {}\".format(element)\n",
    "    ensemble1 = set(chaine[0].split(\", \"))\n",
    "    ensemble2 = set(chaine[1].split(\", \"))\n",
    "\n",
    "    entiers_communs = ensemble1 & ensemble2\n",
    "\n",
    "    if not entiers_communs:\n",
    "        return None\n",
    "\n",
    "    # Tri des entiers et conversion en chaine de caractères\n",
    "    chaine_entiers = \",\".join(map(lambda x: str(x), sorted(entiers_communs)))\n",
    "\n",
    "    # Concaténation avec votre nom, prénom et classe\n",
    "    return chaine_entiers + \":ahan_rosalex_master1\"\n",
    "\n",
    "# Test de la fonction\n",
    "if __name__ == \"__main__\":\n",
    "  arr1 = [\"1, 3, 4, 7, 13\", \"1, 2, 4, 13, 15\"]\n",
    "  out = transform(arr1)\n",
    "  print(out)\n",
    "\n",
    "  arr3 = [\"9, 3, 5, 7, 14\", \"10, 2, 6, 16, 15\"]\n",
    "  out = transform(arr3)\n",
    "  print(out)\n",
    "\n",
    "  arr4 = [\"a, 3, 5, u, 14\", \"10, a, 6, u, 15\"]\n",
    "  out = transform(arr4)\n",
    "  print(out)\n",
    "\n",
    "  arr5 = [\"15\"]\n",
    "  out = transform(arr5)\n",
    "  print(out)\n"
   ]
  }
 ],
 "metadata": {
  "kernelspec": {
   "display_name": "Python 3",
   "language": "python",
   "name": "python3"
  },
  "language_info": {
   "codemirror_mode": {
    "name": "ipython",
    "version": 3
   },
   "file_extension": ".py",
   "mimetype": "text/x-python",
   "name": "python",
   "nbconvert_exporter": "python",
   "pygments_lexer": "ipython3",
   "version": "3.12.1"
  }
 },
 "nbformat": 4,
 "nbformat_minor": 2
}
