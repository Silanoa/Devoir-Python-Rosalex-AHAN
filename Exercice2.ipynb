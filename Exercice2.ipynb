{
 "cells": [
  {
   "cell_type": "markdown",
   "metadata": {},
   "source": [
    "Cette version utilise des boucles for et des instructions if pour filtrer les nombres pairs et impairs de la même manière que le programme original qui utilise l'operateur mod et filter avec une expression lambda pour créer o et e"
   ]
  },
  {
   "cell_type": "code",
   "execution_count": 1,
   "metadata": {},
   "outputs": [
    {
     "name": "stdout",
     "output_type": "stream",
     "text": [
      "[1200, 1335, 1470, 1605, 1740, 1875]\n",
      "[2400, 2940, 3480]\n",
      "[2, 4, 6, 8]\n",
      "[1, 3, 5, 7, 9]\n"
     ]
    }
   ],
   "source": [
    "lst1 = list(range(1200, 2000, 135))\n",
    "lst2 = [i * 2 for i in lst1 if i % 2 == 0]\n",
    "\n",
    "numbers = (1, 2, 3, 4, 5, 6, 7, 8, 9)\n",
    "\n",
    "o = []\n",
    "e = []\n",
    "\n",
    "for x in numbers:\n",
    "    if x % 2 == 0:\n",
    "        o.append(x)\n",
    "    else:\n",
    "        e.append(x)\n",
    "\n",
    "print(lst1)\n",
    "print(lst2)\n",
    "print(o)\n",
    "print(e)\n"
   ]
  },
  {
   "cell_type": "markdown",
   "metadata": {},
   "source": [
    "On affecte les valeurs qu'on veut calculer et on utilise l'opérateur +"
   ]
  },
  {
   "cell_type": "code",
   "execution_count": 2,
   "metadata": {},
   "outputs": [
    {
     "name": "stdout",
     "output_type": "stream",
     "text": [
      "8\n"
     ]
    }
   ],
   "source": [
    "a = 5\n",
    "b = 3\n",
    "result = a + b\n",
    "print(result) "
   ]
  }
 ],
 "metadata": {
  "kernelspec": {
   "display_name": "Python 3",
   "language": "python",
   "name": "python3"
  },
  "language_info": {
   "codemirror_mode": {
    "name": "ipython",
    "version": 3
   },
   "file_extension": ".py",
   "mimetype": "text/x-python",
   "name": "python",
   "nbconvert_exporter": "python",
   "pygments_lexer": "ipython3",
   "version": "3.12.1"
  }
 },
 "nbformat": 4,
 "nbformat_minor": 2
}
