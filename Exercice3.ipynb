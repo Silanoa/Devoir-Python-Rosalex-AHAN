{
 "cells": [
  {
   "cell_type": "markdown",
   "metadata": {},
   "source": [
    "Proposition 1"
   ]
  },
  {
   "cell_type": "code",
   "execution_count": null,
   "metadata": {},
   "outputs": [],
   "source": [
    "import sqlite3\n",
    "def nombre_manquant(tableau):\n",
    "  nombre_manquant = None\n",
    "\n",
    "  # Définir la connexion à la base SQLite\n",
    "  connexion = sqlite3.connect(\"base.db\")\n",
    "  curseur = connexion.cursor()\n",
    "\n",
    "  # Détermine le nombre le plus petit et le plus grand dans le tableau\n",
    "  x = min(tableau)\n",
    "  y = max(tableau)\n",
    "\n",
    "  for i in range(x, y + 1):\n",
    "    if i not in tableau:\n",
    "      nombre_manquant = i\n",
    "      break\n",
    "\n",
    "  if nombre_manquant is not None:\n",
    "    # Insére le nombre manquant dans la base SQLite\n",
    "    curseur.execute(\"INSERT INTO nombres_manquants (valeur) VALUES (?)\", (nombre_manquant,))\n",
    "    connexion.commit()\n",
    "\n",
    "  connexion.close()\n",
    "\n",
    "  return nombre_manquant\n",
    "\n",
    "\n",
    "# Exemple d'utilisation\n",
    "tableau = [1, 2, 3, 5, 6, 7, 8, 9]\n",
    "nombre_manquant = nombre_manquant(tableau)\n",
    "\n",
    "if nombre_manquant is not None:\n",
    "  print(f\"Le nombre manquant est : {nombre_manquant}\")\n",
    "else:\n",
    "  print(\"Le tableau ne contient aucun nombre manquant.\")\n"
   ]
  },
  {
   "cell_type": "markdown",
   "metadata": {},
   "source": [
    "Proposition 2"
   ]
  },
  {
   "cell_type": "code",
   "execution_count": null,
   "metadata": {},
   "outputs": [],
   "source": [
    "def nombre_manquant(tableau):\n",
    "  nombre_manquant = None\n",
    "\n",
    "  connexion = sqlite3.connect(\"base.db\")\n",
    "  curseur = connexion.cursor()\n",
    "\n",
    "  x = min(tableau)\n",
    "  y = max(tableau)\n",
    "\n",
    "  ensemble_complet = set(range(x, y + 1))\n",
    "\n",
    "  # Détermine la différence symétrique entre l'ensemble complet et le tableau\n",
    "  difference_symetrique = ensemble_complet ^ set(tableau)\n",
    "\n",
    "  # Le nombre manquant est le seul élément de la différence symétrique\n",
    "  nombre_manquant = next(iter(difference_symetrique))\n",
    "\n",
    "  curseur.execute(\"INSERT INTO nombres_manquants (valeur) VALUES (?)\", (nombre_manquant,))\n",
    "  connexion.commit()\n",
    "\n",
    "  connexion.close()\n",
    "\n",
    "  return nombre_manquant\n",
    "\n",
    "\n",
    "# Exemple d'utilisation\n",
    "tableau = [1, 2, 3, 5, 6, 7, 8, 9]\n",
    "nombre_manquant = nombre_manquant(tableau)\n",
    "\n",
    "if nombre_manquant is not None:\n",
    "  print(f\"Le nombre manquant est : {nombre_manquant}\")\n",
    "else:\n",
    "  print(\"Le tableau ne contient aucun nombre manquant.\")\n"
   ]
  }
 ],
 "metadata": {
  "language_info": {
   "name": "python"
  }
 },
 "nbformat": 4,
 "nbformat_minor": 2
}
